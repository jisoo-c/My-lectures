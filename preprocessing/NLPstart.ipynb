{
  "cells": [
    {
      "cell_type": "markdown",
      "metadata": {
        "id": "view-in-github",
        "colab_type": "text"
      },
      "source": [
        "<a href=\"https://colab.research.google.com/github/jisoo-c/HY23-2/blob/main/HY_2023_2_nlp.ipynb\" target=\"_parent\"><img src=\"https://colab.research.google.com/assets/colab-badge.svg\" alt=\"Open In Colab\"/></a>"
      ]
    },
    {
      "cell_type": "markdown",
      "metadata": {
        "id": "k6uWYlEfX4t1"
      },
      "source": [
        "# Install\n",
        "1. 아나콘다\n",
        "2. 주피터/코랩\n",
        "## Python package/library\n",
        "1. nltk\n",
        "2. konlpy\n",
        "3. pandas\n",
        "4. matplotlib\n",
        "5. numpy\n",
        "(등 많음)\n",
        "## Deep Learning Framework\n",
        "1. tensorflow \"텐서플로우\"\n",
        "2. keras \"케라스\"\n",
        "3. scikit-learn \"사이킷런\"\n",
        "4. gensim \"젠심\""
      ]
    },
    {
      "cell_type": "markdown",
      "metadata": {
        "id": "vhPOHedaTmZl"
      },
      "source": [
        "#Preprocessing"
      ]
    },
    {
      "cell_type": "markdown",
      "source": [
        "## English : nltk\n",
        "https://www.nltk.org/api/nltk.tokenize.html#module-nltk.tokenize"
      ],
      "metadata": {
        "id": "oz7hlxkRiNe4"
      }
    },
    {
      "cell_type": "code",
      "execution_count": null,
      "metadata": {
        "colab": {
          "base_uri": "https://localhost:8080/"
        },
        "id": "xwK5Z0yxTl9X",
        "outputId": "e174c89e-524f-43dd-9c30-648b8d8dd5d6"
      },
      "outputs": [
        {
          "output_type": "stream",
          "name": "stdout",
          "text": [
            "Requirement already satisfied: nltk in /usr/local/lib/python3.10/dist-packages (3.8.1)\n",
            "Requirement already satisfied: click in /usr/local/lib/python3.10/dist-packages (from nltk) (8.1.7)\n",
            "Requirement already satisfied: joblib in /usr/local/lib/python3.10/dist-packages (from nltk) (1.3.2)\n",
            "Requirement already satisfied: regex>=2021.8.3 in /usr/local/lib/python3.10/dist-packages (from nltk) (2023.6.3)\n",
            "Requirement already satisfied: tqdm in /usr/local/lib/python3.10/dist-packages (from nltk) (4.66.1)\n"
          ]
        }
      ],
      "source": [
        "pip install --user -U nltk"
      ]
    },
    {
      "cell_type": "code",
      "execution_count": null,
      "metadata": {
        "colab": {
          "base_uri": "https://localhost:8080/",
          "height": 36
        },
        "id": "firO5yWwTsmS",
        "outputId": "fbadd10c-b3fa-4995-f643-b765178671f3"
      },
      "outputs": [
        {
          "output_type": "execute_result",
          "data": {
            "text/plain": [
              "'3.8.1'"
            ],
            "application/vnd.google.colaboratory.intrinsic+json": {
              "type": "string"
            }
          },
          "metadata": {},
          "execution_count": 2
        }
      ],
      "source": [
        "import nltk\n",
        "nltk.__version__"
      ]
    },
    {
      "cell_type": "code",
      "execution_count": null,
      "metadata": {
        "colab": {
          "base_uri": "https://localhost:8080/"
        },
        "id": "S0VBNYMPTso_",
        "outputId": "cf7c98ab-d781-4387-ea98-45b8b9062f86"
      },
      "outputs": [
        {
          "name": "stdout",
          "output_type": "stream",
          "text": [
            "NLTK Downloader\n",
            "---------------------------------------------------------------------------\n",
            "    d) Download   l) List    u) Update   c) Config   h) Help   q) Quit\n",
            "---------------------------------------------------------------------------\n",
            "Downloader> Download\n",
            "Command 'Download' unrecognized\n",
            "\n",
            "---------------------------------------------------------------------------\n",
            "    d) Download   l) List    u) Update   c) Config   h) Help   q) Quit\n",
            "---------------------------------------------------------------------------\n",
            "Downloader> list\n",
            "Command 'list' unrecognized\n",
            "\n",
            "---------------------------------------------------------------------------\n",
            "    d) Download   l) List    u) Update   c) Config   h) Help   q) Quit\n",
            "---------------------------------------------------------------------------\n",
            "Downloader> List\n",
            "Command 'List' unrecognized\n",
            "\n",
            "---------------------------------------------------------------------------\n",
            "    d) Download   l) List    u) Update   c) Config   h) Help   q) Quit\n",
            "---------------------------------------------------------------------------\n",
            "Downloader> l\n",
            "\n",
            "Packages:\n",
            "  [ ] abc................. Australian Broadcasting Commission 2006\n",
            "  [ ] alpino.............. Alpino Dutch Treebank\n",
            "  [ ] averaged_perceptron_tagger Averaged Perceptron Tagger\n",
            "  [ ] averaged_perceptron_tagger_ru Averaged Perceptron Tagger (Russian)\n",
            "  [ ] basque_grammars..... Grammars for Basque\n",
            "  [ ] bcp47............... BCP-47 Language Tags\n",
            "  [ ] biocreative_ppi..... BioCreAtIvE (Critical Assessment of Information\n",
            "                           Extraction Systems in Biology)\n",
            "  [ ] bllip_wsj_no_aux.... BLLIP Parser: WSJ Model\n",
            "  [ ] book_grammars....... Grammars from NLTK Book\n",
            "  [ ] brown............... Brown Corpus\n",
            "  [ ] brown_tei........... Brown Corpus (TEI XML Version)\n",
            "  [ ] cess_cat............ CESS-CAT Treebank\n",
            "  [ ] cess_esp............ CESS-ESP Treebank\n",
            "  [ ] chat80.............. Chat-80 Data Files\n",
            "  [ ] city_database....... City Database\n",
            "  [ ] cmudict............. The Carnegie Mellon Pronouncing Dictionary (0.6)\n",
            "  [ ] comparative_sentences Comparative Sentence Dataset\n",
            "  [ ] comtrans............ ComTrans Corpus Sample\n",
            "  [ ] conll2000........... CONLL 2000 Chunking Corpus\n",
            "Hit Enter to continue: d\n",
            "  [ ] conll2002........... CONLL 2002 Named Entity Recognition Corpus\n",
            "  [ ] conll2007........... Dependency Treebanks from CoNLL 2007 (Catalan\n",
            "                           and Basque Subset)\n",
            "  [ ] crubadan............ Crubadan Corpus\n",
            "  [ ] dependency_treebank. Dependency Parsed Treebank\n",
            "  [ ] dolch............... Dolch Word List\n",
            "  [ ] europarl_raw........ Sample European Parliament Proceedings Parallel\n",
            "                           Corpus\n",
            "  [ ] extended_omw........ Extended Open Multilingual WordNet\n",
            "  [ ] floresta............ Portuguese Treebank\n",
            "  [ ] framenet_v15........ FrameNet 1.5\n",
            "  [ ] framenet_v17........ FrameNet 1.7\n",
            "  [ ] gazetteers.......... Gazeteer Lists\n",
            "  [ ] genesis............. Genesis Corpus\n",
            "  [ ] gutenberg........... Project Gutenberg Selections\n",
            "  [ ] ieer................ NIST IE-ER DATA SAMPLE\n",
            "  [ ] inaugural........... C-Span Inaugural Address Corpus\n",
            "  [ ] indian.............. Indian Language POS-Tagged Corpus\n",
            "  [ ] jeita............... JEITA Public Morphologically Tagged Corpus (in\n",
            "                           ChaSen format)\n",
            "  [ ] kimmo............... PC-KIMMO Data Files\n",
            "Hit Enter to continue: q\n",
            "\n",
            "---------------------------------------------------------------------------\n",
            "    d) Download   l) List    u) Update   c) Config   h) Help   q) Quit\n",
            "---------------------------------------------------------------------------\n",
            "Downloader> d\n",
            "\n",
            "Download which package (l=list; x=cancel)?\n",
            "  Identifier> x\n",
            "\n",
            "---------------------------------------------------------------------------\n",
            "    d) Download   l) List    u) Update   c) Config   h) Help   q) Quit\n",
            "---------------------------------------------------------------------------\n",
            "Downloader> q\n"
          ]
        },
        {
          "output_type": "execute_result",
          "data": {
            "text/plain": [
              "True"
            ]
          },
          "metadata": {},
          "execution_count": 3
        }
      ],
      "source": [
        "nltk.download()"
      ]
    },
    {
      "cell_type": "code",
      "source": [
        "nltk.download('punkt')"
      ],
      "metadata": {
        "colab": {
          "base_uri": "https://localhost:8080/"
        },
        "id": "ibWa_SOZibFW",
        "outputId": "4b15ab45-3804-4185-96b7-572217e9b677"
      },
      "execution_count": null,
      "outputs": [
        {
          "output_type": "stream",
          "name": "stderr",
          "text": [
            "[nltk_data] Downloading package punkt to /root/nltk_data...\n",
            "[nltk_data]   Unzipping tokenizers/punkt.zip.\n"
          ]
        },
        {
          "output_type": "execute_result",
          "data": {
            "text/plain": [
              "True"
            ]
          },
          "metadata": {},
          "execution_count": 19
        }
      ]
    },
    {
      "cell_type": "code",
      "execution_count": null,
      "metadata": {
        "id": "WqmWQskHTvaT"
      },
      "outputs": [],
      "source": [
        "text = \"\"\"I'd love to study linguistics!\"\"\""
      ]
    },
    {
      "cell_type": "code",
      "execution_count": null,
      "metadata": {
        "id": "94BFr-rRTvc2",
        "colab": {
          "base_uri": "https://localhost:8080/",
          "height": 36
        },
        "outputId": "40480ee7-0623-432a-e34d-41a0ea598dc7"
      },
      "outputs": [
        {
          "output_type": "execute_result",
          "data": {
            "text/plain": [
              "\"I'd love to study linguistics!\""
            ],
            "application/vnd.google.colaboratory.intrinsic+json": {
              "type": "string"
            }
          },
          "metadata": {},
          "execution_count": 5
        }
      ],
      "source": [
        "text"
      ]
    },
    {
      "cell_type": "code",
      "execution_count": null,
      "metadata": {
        "id": "QHRky-paTvfE",
        "colab": {
          "base_uri": "https://localhost:8080/"
        },
        "outputId": "5a9531b3-8a59-4b53-b77f-24e9299b727a"
      },
      "outputs": [
        {
          "output_type": "execute_result",
          "data": {
            "text/plain": [
              "['I', \"'d\", 'love', 'to', 'study', 'linguistics', '!']"
            ]
          },
          "metadata": {},
          "execution_count": 20
        }
      ],
      "source": [
        "from nltk.tokenize import word_tokenize\n",
        "word_tokenize(text)"
      ]
    },
    {
      "cell_type": "code",
      "execution_count": null,
      "metadata": {
        "id": "HJX3mag0TvhD",
        "colab": {
          "base_uri": "https://localhost:8080/"
        },
        "outputId": "b330242c-9687-43ad-a183-ebb52f0d1da5"
      },
      "outputs": [
        {
          "output_type": "execute_result",
          "data": {
            "text/plain": [
              "['I', \"'\", 'd', 'love', 'to', 'study', 'linguistics', '!']"
            ]
          },
          "metadata": {},
          "execution_count": 7
        }
      ],
      "source": [
        "from nltk.tokenize import WordPunctTokenizer\n",
        "WordPunctTokenizer().tokenize(text)"
      ]
    },
    {
      "cell_type": "code",
      "execution_count": null,
      "metadata": {
        "id": "dUf1k5x4T1W9",
        "colab": {
          "base_uri": "https://localhost:8080/",
          "height": 36
        },
        "outputId": "d8db9af2-2c0f-4eaa-9377-5c763547e0dd"
      },
      "outputs": [
        {
          "output_type": "execute_result",
          "data": {
            "text/plain": [
              "\"i'd love to study linguistics!\""
            ],
            "application/vnd.google.colaboratory.intrinsic+json": {
              "type": "string"
            }
          },
          "metadata": {},
          "execution_count": 8
        }
      ],
      "source": [
        "def lowertext(text):\n",
        "    return(text.lower())\n",
        "\n",
        "lowertext(text)"
      ]
    },
    {
      "cell_type": "code",
      "execution_count": null,
      "metadata": {
        "id": "ynJT8so_T1Zm",
        "colab": {
          "base_uri": "https://localhost:8080/"
        },
        "outputId": "d01bf144-40c1-4857-afa2-37833e4a8ced"
      },
      "outputs": [
        {
          "output_type": "execute_result",
          "data": {
            "text/plain": [
              "[\"i'd\", 'lov', 'to', 'study', 'linguistics!']"
            ]
          },
          "metadata": {},
          "execution_count": 9
        }
      ],
      "source": [
        "from nltk.stem import LancasterStemmer\n",
        "[LancasterStemmer().stem(word) for word in text.split()]"
      ]
    },
    {
      "cell_type": "code",
      "execution_count": null,
      "metadata": {
        "id": "JBZ7WjG8T2_b",
        "colab": {
          "base_uri": "https://localhost:8080/"
        },
        "outputId": "32c92860-4d01-4167-8852-3931f1028468"
      },
      "outputs": [
        {
          "output_type": "stream",
          "name": "stdout",
          "text": [
            "[('I', 'PRP'), (\"'d\", 'MD'), ('love', 'VB'), ('to', 'TO'), ('study', 'VB'), ('linguistics', 'NNS'), ('!', '.')]\n"
          ]
        },
        {
          "output_type": "stream",
          "name": "stderr",
          "text": [
            "[nltk_data] Downloading package averaged_perceptron_tagger to\n",
            "[nltk_data]     /root/nltk_data...\n",
            "[nltk_data]   Package averaged_perceptron_tagger is already up-to-\n",
            "[nltk_data]       date!\n",
            "[nltk_data] Downloading package wordnet to /root/nltk_data...\n",
            "[nltk_data]   Package wordnet is already up-to-date!\n"
          ]
        }
      ],
      "source": [
        "#POS Tagging\n",
        "import nltk\n",
        "nltk.download('averaged_perceptron_tagger')\n",
        "nltk.download('wordnet')\n",
        "from nltk.tokenize import word_tokenize\n",
        "from nltk.tag import pos_tag\n",
        "\n",
        "word_token = word_tokenize(text)\n",
        "print(pos_tag(word_token))"
      ]
    },
    {
      "cell_type": "code",
      "execution_count": null,
      "metadata": {
        "id": "KUMPfHc9T3B5",
        "colab": {
          "base_uri": "https://localhost:8080/"
        },
        "outputId": "84878988-e2a2-45d8-d7a2-0a4b2ef1ba03"
      },
      "outputs": [
        {
          "output_type": "stream",
          "name": "stderr",
          "text": [
            "[nltk_data] Downloading package omw-1.4 to /root/nltk_data...\n"
          ]
        },
        {
          "output_type": "execute_result",
          "data": {
            "text/plain": [
              "[\"I'd\", 'love', 'to', 'study', 'linguistics!']"
            ]
          },
          "metadata": {},
          "execution_count": 11
        }
      ],
      "source": [
        "#Lemmatizing\n",
        "from nltk.stem import WordNetLemmatizer\n",
        "nltk.download('omw-1.4')\n",
        "lemmatizer = WordNetLemmatizer()\n",
        "[WordNetLemmatizer().lemmatize(word) for word in text.split()]\n",
        "# WordNetLemmatizer().lemmatize('love', pos='a')"
      ]
    },
    {
      "cell_type": "code",
      "execution_count": null,
      "metadata": {
        "id": "F8TWrF9nT3EW",
        "colab": {
          "base_uri": "https://localhost:8080/"
        },
        "outputId": "fd72ec7c-200b-4742-a653-f23ad3e7fab2"
      },
      "outputs": [
        {
          "output_type": "stream",
          "name": "stderr",
          "text": [
            "[nltk_data] Downloading package stopwords to /root/nltk_data...\n",
            "[nltk_data]   Unzipping corpora/stopwords.zip.\n"
          ]
        },
        {
          "output_type": "execute_result",
          "data": {
            "text/plain": [
              "['i',\n",
              " 'me',\n",
              " 'my',\n",
              " 'myself',\n",
              " 'we',\n",
              " 'our',\n",
              " 'ours',\n",
              " 'ourselves',\n",
              " 'you',\n",
              " \"you're\",\n",
              " \"you've\",\n",
              " \"you'll\",\n",
              " \"you'd\",\n",
              " 'your',\n",
              " 'yours',\n",
              " 'yourself',\n",
              " 'yourselves',\n",
              " 'he',\n",
              " 'him',\n",
              " 'his',\n",
              " 'himself',\n",
              " 'she',\n",
              " \"she's\",\n",
              " 'her',\n",
              " 'hers',\n",
              " 'herself',\n",
              " 'it',\n",
              " \"it's\",\n",
              " 'its',\n",
              " 'itself',\n",
              " 'they',\n",
              " 'them',\n",
              " 'their',\n",
              " 'theirs',\n",
              " 'themselves',\n",
              " 'what',\n",
              " 'which',\n",
              " 'who',\n",
              " 'whom',\n",
              " 'this',\n",
              " 'that',\n",
              " \"that'll\",\n",
              " 'these',\n",
              " 'those',\n",
              " 'am',\n",
              " 'is',\n",
              " 'are',\n",
              " 'was',\n",
              " 'were',\n",
              " 'be',\n",
              " 'been',\n",
              " 'being',\n",
              " 'have',\n",
              " 'has',\n",
              " 'had',\n",
              " 'having',\n",
              " 'do',\n",
              " 'does',\n",
              " 'did',\n",
              " 'doing',\n",
              " 'a',\n",
              " 'an',\n",
              " 'the',\n",
              " 'and',\n",
              " 'but',\n",
              " 'if',\n",
              " 'or',\n",
              " 'because',\n",
              " 'as',\n",
              " 'until',\n",
              " 'while',\n",
              " 'of',\n",
              " 'at',\n",
              " 'by',\n",
              " 'for',\n",
              " 'with',\n",
              " 'about',\n",
              " 'against',\n",
              " 'between',\n",
              " 'into',\n",
              " 'through',\n",
              " 'during',\n",
              " 'before',\n",
              " 'after',\n",
              " 'above',\n",
              " 'below',\n",
              " 'to',\n",
              " 'from',\n",
              " 'up',\n",
              " 'down',\n",
              " 'in',\n",
              " 'out',\n",
              " 'on',\n",
              " 'off',\n",
              " 'over',\n",
              " 'under',\n",
              " 'again',\n",
              " 'further',\n",
              " 'then',\n",
              " 'once',\n",
              " 'here',\n",
              " 'there',\n",
              " 'when',\n",
              " 'where',\n",
              " 'why',\n",
              " 'how',\n",
              " 'all',\n",
              " 'any',\n",
              " 'both',\n",
              " 'each',\n",
              " 'few',\n",
              " 'more',\n",
              " 'most',\n",
              " 'other',\n",
              " 'some',\n",
              " 'such',\n",
              " 'no',\n",
              " 'nor',\n",
              " 'not',\n",
              " 'only',\n",
              " 'own',\n",
              " 'same',\n",
              " 'so',\n",
              " 'than',\n",
              " 'too',\n",
              " 'very',\n",
              " 's',\n",
              " 't',\n",
              " 'can',\n",
              " 'will',\n",
              " 'just',\n",
              " 'don',\n",
              " \"don't\",\n",
              " 'should',\n",
              " \"should've\",\n",
              " 'now',\n",
              " 'd',\n",
              " 'll',\n",
              " 'm',\n",
              " 'o',\n",
              " 're',\n",
              " 've',\n",
              " 'y',\n",
              " 'ain',\n",
              " 'aren',\n",
              " \"aren't\",\n",
              " 'couldn',\n",
              " \"couldn't\",\n",
              " 'didn',\n",
              " \"didn't\",\n",
              " 'doesn',\n",
              " \"doesn't\",\n",
              " 'hadn',\n",
              " \"hadn't\",\n",
              " 'hasn',\n",
              " \"hasn't\",\n",
              " 'haven',\n",
              " \"haven't\",\n",
              " 'isn',\n",
              " \"isn't\",\n",
              " 'ma',\n",
              " 'mightn',\n",
              " \"mightn't\",\n",
              " 'mustn',\n",
              " \"mustn't\",\n",
              " 'needn',\n",
              " \"needn't\",\n",
              " 'shan',\n",
              " \"shan't\",\n",
              " 'shouldn',\n",
              " \"shouldn't\",\n",
              " 'wasn',\n",
              " \"wasn't\",\n",
              " 'weren',\n",
              " \"weren't\",\n",
              " 'won',\n",
              " \"won't\",\n",
              " 'wouldn',\n",
              " \"wouldn't\"]"
            ]
          },
          "metadata": {},
          "execution_count": 12
        }
      ],
      "source": [
        "from nltk.corpus import stopwords\n",
        "nltk.download('stopwords')\n",
        "\n",
        "stopwordslist = stopwords.words('english')\n",
        "stopwordslist"
      ]
    },
    {
      "cell_type": "markdown",
      "source": [
        "### 영어 전처리 분류에 활용하기"
      ],
      "metadata": {
        "id": "r8KERy9Aiw1F"
      }
    },
    {
      "cell_type": "code",
      "source": [
        "#nltk 코퍼스 불러오기\n",
        "\n",
        "nltk.download('gutenberg')\n",
        "from nltk.corpus import gutenberg, brown, stopwords\n",
        "nltk.corpus.gutenberg"
      ],
      "metadata": {
        "colab": {
          "base_uri": "https://localhost:8080/"
        },
        "id": "o1WEfs-_ivya",
        "outputId": "075a9980-b653-429d-c027-48953db968ab"
      },
      "execution_count": null,
      "outputs": [
        {
          "output_type": "stream",
          "name": "stderr",
          "text": [
            "[nltk_data] Downloading package gutenberg to /root/nltk_data...\n",
            "[nltk_data]   Unzipping corpora/gutenberg.zip.\n"
          ]
        },
        {
          "output_type": "execute_result",
          "data": {
            "text/plain": [
              "<PlaintextCorpusReader in '/root/nltk_data/corpora/gutenberg'>"
            ]
          },
          "metadata": {},
          "execution_count": 25
        }
      ]
    },
    {
      "cell_type": "code",
      "source": [
        "emma = nltk.Text(gutenberg.words('austen-emma.txt'))\n",
        "emma.concordance('love')"
      ],
      "metadata": {
        "colab": {
          "base_uri": "https://localhost:8080/"
        },
        "id": "p05ZWiowiv1F",
        "outputId": "ea0959df-cf1d-4aa1-b6e1-c5dbc2753edf"
      },
      "execution_count": null,
      "outputs": [
        {
          "output_type": "stream",
          "name": "stdout",
          "text": [
            "Displaying 25 of 117 matches:\n",
            " family , and Miss Churchill fell in love with him , nobody was surprized , ex\n",
            "n for the great goodness of being in love with him ; but though she had one so\n",
            "n of Enscombe : she did not cease to love her husband , but she wanted at once\n",
            "ch , and saw no alarming symptoms of love . The young man had been the first a\n",
            ". \" I think her all you describe . I love to look at her ; and I will add this\n",
            "ons with me .\" \" I know that you all love her really too well to be unjust or \n",
            "bad thing for her to be very much in love with a proper object . I should like\n",
            "bject . I should like to see Emma in love , and in some doubt of a return ; it\n",
            "ing in the fairest way of falling in love , if not in love already . She had n\n",
            "t way of falling in love , if not in love already . She had no scruple with re\n",
            " could not respect his eye , but his love and his complaisance were unexceptio\n",
            "s man is almost too gallant to be in love ,\" thought Emma . \" I should say so \n",
            "a hundred different ways of being in love . He is an excellent young man , and\n",
            " think of but one thing -- Who is in love with her ? Who makes you their confi\n",
            " his business . He is desperately in love and means to marry her .\" \" He is ve\n",
            "ut I could not reason so to a man in love , and was willing to trust to there \n",
            "ally supposed ; till they do fall in love with well - informed minds instead o\n",
            " ; but as you make no secret of your love of match - making , it is fair to su\n",
            " better . A man must be very much in love , indeed , to describe her so . Ah !\n",
            " in the air of Hartfield which gives love exactly the right direction , and se\n",
            "t ought to flow . The course of true love never did run smooth -- A Hartfield \n",
            " That Mr . Elton should really be in love with me ,-- me , of all people , who\n",
            " very true . How nicely you talk ; I love to hear you . You understand every t\n",
            " better than his passion . A poet in love must be encouraged in both capacitie\n",
            "re not writing down a declaration of love . It seemed too precious an offering\n"
          ]
        }
      ]
    },
    {
      "cell_type": "code",
      "source": [
        "nltk.download('brown')\n",
        "brown_news = nltk.Text(brown.words(categories='news'))\n",
        "brown_news.dispersion_plot(['money', 'war', 'peace']) #텍스트 내 단어가 사용된 위치 시각화"
      ],
      "metadata": {
        "colab": {
          "base_uri": "https://localhost:8080/",
          "height": 508
        },
        "id": "kcq1U2tniv3h",
        "outputId": "24a5175c-c668-4546-89a4-275cecc048f9"
      },
      "execution_count": null,
      "outputs": [
        {
          "output_type": "stream",
          "name": "stderr",
          "text": [
            "[nltk_data] Downloading package brown to /root/nltk_data...\n",
            "[nltk_data]   Package brown is already up-to-date!\n"
          ]
        },
        {
          "output_type": "display_data",
          "data": {
            "text/plain": [
              "<Figure size 640x480 with 1 Axes>"
            ],
            "image/png": "[encoded data removed]"
          },
          "metadata": {}
        }
      ]
    },
    {
      "cell_type": "code",
      "source": [],
      "metadata": {
        "id": "XSHX0TV9jbt2"
      },
      "execution_count": null,
      "outputs": []
    },
    {
      "cell_type": "markdown",
      "metadata": {
        "id": "ZWqDvqvIT6oL"
      },
      "source": [
        "## Korean : KoNLPy\n",
        "https://konlpy.org/en/latest/"
      ]
    },
    {
      "cell_type": "code",
      "execution_count": null,
      "metadata": {
        "colab": {
          "base_uri": "https://localhost:8080/"
        },
        "id": "3Z5xJF67XtC7",
        "outputId": "1d555f82-da79-4952-e193-3258b1076f1c"
      },
      "outputs": [
        {
          "output_type": "stream",
          "name": "stdout",
          "text": [
            "Requirement already satisfied: konlpy in /usr/local/lib/python3.10/dist-packages (0.6.0)\n",
            "Requirement already satisfied: JPype1>=0.7.0 in /usr/local/lib/python3.10/dist-packages (from konlpy) (1.4.1)\n",
            "Requirement already satisfied: lxml>=4.1.0 in /usr/local/lib/python3.10/dist-packages (from konlpy) (4.9.3)\n",
            "Requirement already satisfied: numpy>=1.6 in /usr/local/lib/python3.10/dist-packages (from konlpy) (1.23.5)\n",
            "Requirement already satisfied: packaging in /usr/local/lib/python3.10/dist-packages (from JPype1>=0.7.0->konlpy) (23.1)\n"
          ]
        }
      ],
      "source": [
        "pip install konlpy"
      ]
    },
    {
      "cell_type": "code",
      "execution_count": null,
      "metadata": {
        "id": "ho1e04UaX4_V"
      },
      "outputs": [],
      "source": [
        "#kkma\n",
        "from konlpy.tag import Kkma\n",
        "kkma = Kkma()"
      ]
    },
    {
      "cell_type": "code",
      "execution_count": null,
      "metadata": {
        "id": "SvYFyH5AX5CO",
        "colab": {
          "base_uri": "https://localhost:8080/"
        },
        "outputId": "795013dd-484e-4337-8739-67b9044d7039"
      },
      "outputs": [
        {
          "output_type": "stream",
          "name": "stdout",
          "text": [
            "꼬꼬마 형태소 분석 : ['나', '는', '언어학', '을', '공부', '하', '는데', ',', '너', '는', '무엇', '을', '공부', '하', '니', '?']\n",
            "꼬꼬마 품사 태깅 : [('나', 'NP'), ('는', 'JX'), ('언어학', 'NNG'), ('을', 'JKO'), ('공부', 'NNG'), ('하', 'XSV'), ('는데', 'ECD'), (',', 'SP'), ('너', 'NP'), ('는', 'JX'), ('무엇', 'NNG'), ('을', 'JKO'), ('공부', 'NNG'), ('하', 'XSV'), ('니', 'ECD'), ('?', 'SF')]\n",
            "꼬꼬마 명사 추출 : ['나', '언어학', '공부', '너', '무엇']\n"
          ]
        }
      ],
      "source": [
        "print('꼬꼬마 형태소 분석 :',kkma.morphs(\"나는 언어학을 공부하는데, 너는 무엇을 공부하니?\"))\n",
        "print('꼬꼬마 품사 태깅 :',kkma.pos(\"나는 언어학을 공부하는데, 너는 무엇을 공부하니?\"))\n",
        "print('꼬꼬마 명사 추출 :',kkma.nouns(\"나는 언어학을 공부하는데, 너는 무엇을 공부하니?\"))"
      ]
    },
    {
      "cell_type": "code",
      "execution_count": null,
      "metadata": {
        "id": "-kC0bbS4X5Ez",
        "colab": {
          "base_uri": "https://localhost:8080/"
        },
        "outputId": "82abf5a2-4d29-4f12-d9db-6325e5796d72"
      },
      "outputs": [
        {
          "output_type": "stream",
          "name": "stdout",
          "text": [
            "OKT 형태소 분석 : ['나', '는', '언어학', '을', '공부', '하는데', ',', '너', '는', '무엇', '을', '공부', '하니', '?']\n",
            "OKT 품사 태깅 : [('나', 'Noun'), ('는', 'Josa'), ('언어학', 'Noun'), ('을', 'Josa'), ('공부', 'Noun'), ('하는데', 'Verb'), (',', 'Punctuation'), ('너', 'Noun'), ('는', 'Josa'), ('무엇', 'Noun'), ('을', 'Josa'), ('공부', 'Noun'), ('하니', 'Verb'), ('?', 'Punctuation')]\n",
            "OKT 명사 추출 : ['나', '언어학', '공부', '너', '무엇', '공부']\n"
          ]
        }
      ],
      "source": [
        "#Okt\n",
        "from konlpy.tag import Okt\n",
        "okt = Okt()\n",
        "\n",
        "print('OKT 형태소 분석 :',okt.morphs(\"나는 언어학을 공부하는데, 너는 무엇을 공부하니?\"))\n",
        "print('OKT 품사 태깅 :',okt.pos(\"나는 언어학을 공부하는데, 너는 무엇을 공부하니?\"))\n",
        "print('OKT 명사 추출 :',okt.nouns(\"나는 언어학을 공부하는데, 너는 무엇을 공부하니?\"))"
      ]
    },
    {
      "cell_type": "code",
      "source": [
        "#한국어 형태소분석기 선택적으로 사용!\n",
        "#참고: https://jongsky.tistory.com/31"
      ],
      "metadata": {
        "id": "yQQ8jWOqhcC1"
      },
      "execution_count": null,
      "outputs": []
    }
  ],
  "metadata": {
    "colab": {
      "provenance": [],
      "authorship_tag": "ABX9TyNHCXvpTFYw9uuEj91Nozu3",
      "include_colab_link": true
    },
    "kernelspec": {
      "display_name": "Python 3",
      "name": "python3"
    },
    "language_info": {
      "name": "python"
    }
  },
  "nbformat": 4,
  "nbformat_minor": 0
}
